{
 "cells": [
  {
   "cell_type": "markdown",
   "id": "24f7f276-97c6-4eda-b7d4-3c0229d5d72b",
   "metadata": {},
   "source": [
    "# Image Recognition with Convolutional Neural Networks\n",
    "\n",
    "\n",
    "![self_driving](../images/self_driving.png)\n",
    "\n",
    "Source: [xkcd](https://xkcd.com/1897/)\n",
    "\n",
    "## 💳 Credit\n",
    "### Introduction to Jupyter Notebooks & Python\n",
    "\n",
    "This was heavily borrowed and adapted from [this tutorial](https://github.com/ABS-Neural-Nets-Tutorial/Intro-To-Neural-Networks)\n",
    "\n",
    "### Procedure of Building a CNN from PyTorch\n",
    "\n",
    "This tutorial was heavily borrowed from the [d2l.ia](http://d2l.ai/). Major changes made include:\n",
    "\n",
    "* Simplification and adaptation to cpu-only implementation.\n",
    "* Comments and descriptions of the functions.\n",
    "\n",
    "Note the sample code in the d2l.ia [repo](https://github.com/d2l-ai/d2l-en) is subject to a modified [MIT License](https://en.wikipedia.org/wiki/MIT_License).  See the source [github repo](https://github.com/bbpi2/cnn-pytorch-tutorial) for the licensing of this tutorial.\n",
    "\n",
    "---\n",
    "\n",
    "## ✍🏽 Pre-requisites\n",
    "Welcome! This is part 4 of a 4 part series of neural network learning sessions! Before we begin here are some of the pre-requisites:\n",
    " * Some familiarity with programming languagues (it doesn't have to be Python, we will be going through some basics here).\n",
    " * Some familiarity with convolutional neural networks (either from the past presentation or otherwise).\n",
    "\n",
    "These are, of course, just guidelines, feel free to jump into it regardless and ask heaps of questions! 🤔🤔🤔\n",
    "\n",
    "---\n",
    "## Guidelines\n",
    "Black text will be present for information.  \n",
    "<font color='#F89536'> **Orange text is used to prompt discussion in your breakout rooms and thinking**. </font>  \n",
    "<font color='red'> **Red text indicates the following section is advanced material that adds some context to the discussion**. </font>  \n",
    "\n",
    "\n",
    "---\n",
    "\n",
    "## 🛣️ Roadmap\n",
    "\n",
    "### 🐍 [Part 1: Exploring Jupyter Notebooks & Python](./1_Exploring_Jupyter_Python.ipynb)\n",
    " * Learn about using Jupyter Notebooks and Python.\n",
    " * Essential if you are unfamiliar with either -- highly recommended even if you are to make sure we're both on the same page! 📖📖📖\n",
    " \n",
    "### 🏞️ [Part 2: Data Exploration](./2_Data_Exploration.ipynb)\n",
    " * Introducing the data science pipeline.\n",
    " * Basic exploration, data cleaning and wrangling to set us up for Part 3.\n",
    " \n",
    "### 💪 [Part 3: Building and Training Your Model](./3_Constructing_Network.ipynb)\n",
    " * Replicate a popular convolutional neural network structure (the LeNet).\n",
    " * Train on a small sample of the data (ie. a single mini-batch).\n",
    " \n",
    "### 🚀 [Part 4: To Infinity and Beyond!](./4_Scaling_Model.ipynb)\n",
    " * Scale up training to multiple passes of the entire training dataset (epochs).\n",
    " * Discuss the effects of overfitting.\n",
    " * Appendix for resources and further discussion."
   ]
  }
 ],
 "metadata": {
  "kernelspec": {
   "display_name": "cnn-tutorial",
   "language": "python",
   "name": "cnn-tutorial"
  },
  "language_info": {
   "codemirror_mode": {
    "name": "ipython",
    "version": 3
   },
   "file_extension": ".py",
   "mimetype": "text/x-python",
   "name": "python",
   "nbconvert_exporter": "python",
   "pygments_lexer": "ipython3",
   "version": "3.9.7"
  }
 },
 "nbformat": 4,
 "nbformat_minor": 5
}
