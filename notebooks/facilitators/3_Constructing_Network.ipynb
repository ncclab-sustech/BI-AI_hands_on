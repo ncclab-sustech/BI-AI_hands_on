{
 "cells": [
  {
   "cell_type": "markdown",
   "id": "3c2ccb11-d6e5-4c0b-b430-3330334eaaeb",
   "metadata": {},
   "source": [
    "# 💪 Part 3: Building and Training Your Model"
   ]
  },
  {
   "cell_type": "markdown",
   "id": "9dcececf-394c-4cce-8357-ad8887f0a387",
   "metadata": {},
   "source": [
    "---\n",
    "## <font color='#F89536'> **Discussion:** </font>\n",
    "If the input image is 28x28, what are the output dimensions of the layer? (Hint: With pad-2, the image will be a 30x30 image. How many strides (of 1) can the window move horizontally before reaching the right-hand side?)\n",
    "\n",
    "<font color='Red'> 28x28, usually convolution layers try to preserve the dimensionality of the image. </font> \n",
    "\n",
    "---"
   ]
  },
  {
   "cell_type": "markdown",
   "id": "a364ff65-3b64-4d85-b177-587b141158cf",
   "metadata": {},
   "source": [
    "---\n",
    "## <font color='#F89536'> **Your Turn!** </font> \n",
    "What are the hyperparameters for the *second* convolutional, pooling, and linear layers? Fill in the `?` below."
   ]
  },
  {
   "cell_type": "code",
   "execution_count": null,
   "id": "61077e2f-52ee-45e7-8b32-e788fba87b25",
   "metadata": {},
   "outputs": [],
   "source": [
    "# Initialise LeNet Architecture (ans)\n",
    "net = nn.Sequential(nn.Conv2d(in_channels = 1, out_channels = 6, kernel_size=5, padding=2), nn.Sigmoid(),\n",
    "                    nn.AvgPool2d(kernel_size=2, stride=2),\n",
    "                    nn.Conv2d(in_channels = 6, out_channels = 16, kernel_size=5), nn.Sigmoid(),\n",
    "                    nn.AvgPool2d(kernel_size=2, stride=2), nn.Flatten(),\n",
    "                    nn.Linear(in_features = 16 * 5 * 5, out_features = 120), nn.Sigmoid(),\n",
    "                    nn.Linear(in_features = 120, out_features = 84), nn.Sigmoid(), \n",
    "                    nn.Linear(in_features = 84, out_features = 10))"
   ]
  },
  {
   "cell_type": "markdown",
   "id": "929ddfee-4eeb-4a1d-a4a1-b50d9bb19b17",
   "metadata": {},
   "source": [
    "---"
   ]
  },
  {
   "cell_type": "markdown",
   "id": "7b131316-cbf8-4d6d-8677-76604e785b0a",
   "metadata": {},
   "source": [
    "---\n",
    "## <font color='#F89536'> **Discussion** </font> \n",
    "Does this match with the LeNet architecture we outlined at the beginning?\n",
    "\n",
    "<font color='Red'> It should... </font> \n",
    "\n",
    "---"
   ]
  }
 ],
 "metadata": {
  "kernelspec": {
   "display_name": "cnn-tutorial",
   "language": "python",
   "name": "cnn-tutorial"
  },
  "language_info": {
   "codemirror_mode": {
    "name": "ipython",
    "version": 3
   },
   "file_extension": ".py",
   "mimetype": "text/x-python",
   "name": "python",
   "nbconvert_exporter": "python",
   "pygments_lexer": "ipython3",
   "version": "3.9.7"
  }
 },
 "nbformat": 4,
 "nbformat_minor": 5
}
