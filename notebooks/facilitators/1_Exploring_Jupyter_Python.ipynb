{
 "cells": [
  {
   "cell_type": "markdown",
   "id": "3681d092-147a-4dc7-9efc-b56f0ce69020",
   "metadata": {},
   "source": [
    "# 🐍 Part 1: Exploring Jupyter Notebooks & Python"
   ]
  },
  {
   "cell_type": "markdown",
   "id": "0d690895-3715-44ad-9d39-da650c7c02db",
   "metadata": {},
   "source": [
    "---\n",
    "## <font color='#F89536'> **Discussion Question:** </font> \n",
    "What is the difference between `cltr+enter` and `shift+enter`?\n",
    "\n",
    "<font color='Red'> The Cltr one runs the current cell and the Shift one runs the current cell AND moves to the next cell</font> \n",
    "\n",
    "---"
   ]
  },
  {
   "cell_type": "markdown",
   "id": "1b3322a5-364b-4764-9cb1-7fad60355304",
   "metadata": {},
   "source": [
    "---\n",
    "## <font color='#F89536'> **Your turn!** </font>  \n",
    "Try to make code to compute the following:\n",
    "    \n",
    "1. What is $(225 + 751) \\times 32$"
   ]
  },
  {
   "cell_type": "code",
   "execution_count": 1,
   "id": "79ade8e5-4f1d-435f-a9b2-14aed21058ee",
   "metadata": {},
   "outputs": [
    {
     "data": {
      "text/plain": [
       "31232"
      ]
     },
     "execution_count": 1,
     "metadata": {},
     "output_type": "execute_result"
    }
   ],
   "source": [
    "# Your code here\n",
    "(225 + 751) * 32"
   ]
  },
  {
   "cell_type": "markdown",
   "id": "1a451a58-e79c-4f4a-9817-9e7dc44d5d06",
   "metadata": {},
   "source": [
    "2. Calculate $1^3 + 2^3 + 3^3 + 4^3$"
   ]
  },
  {
   "cell_type": "code",
   "execution_count": 2,
   "id": "d450d403-2d8a-47a9-8cbd-a1ec6b5ebd55",
   "metadata": {},
   "outputs": [
    {
     "data": {
      "text/plain": [
       "100"
      ]
     },
     "execution_count": 2,
     "metadata": {},
     "output_type": "execute_result"
    }
   ],
   "source": [
    "# Your code here\n",
    "1 ** 3 + 2 ** 3 + 3 ** 3 + 4 ** 3"
   ]
  },
  {
   "cell_type": "markdown",
   "id": "a7d27dae-caa2-46a9-b3e7-1bc49049bb62",
   "metadata": {},
   "source": [
    "3. If the base of a triangle is $34$ and the height is $12$, what is the area? (Hint: The area of the triangle is $ 0.5 \\times base \\times height$). Fill in the `?` below."
   ]
  },
  {
   "cell_type": "code",
   "execution_count": 3,
   "id": "979e1e26-5f44-47ca-8eec-9df8c0abb9b3",
   "metadata": {},
   "outputs": [
    {
     "name": "stdout",
     "output_type": "stream",
     "text": [
      "204.0\n"
     ]
    }
   ],
   "source": [
    "# Your code here\n",
    "base = 34\n",
    "height = 12\n",
    "area = 0.5 * base * height\n",
    "print(area)"
   ]
  },
  {
   "cell_type": "markdown",
   "id": "816b27f4-cc46-4b53-aac7-cbf2919c548d",
   "metadata": {},
   "source": [
    "4. Is $a = 1^3 + 12^3$ the same as $b = 9^3 + 10^3$. (Hint: Define `a = 1 ** 3 + 12 ** 3` etc. first). Fill in the `?` below."
   ]
  },
  {
   "cell_type": "code",
   "execution_count": 4,
   "id": "434c2977-6d13-4029-a44f-3b3644354f66",
   "metadata": {},
   "outputs": [
    {
     "name": "stdout",
     "output_type": "stream",
     "text": [
      "True\n"
     ]
    }
   ],
   "source": [
    "# Your code here\n",
    "a = 1 ** 3 + 12 ** 3\n",
    "b = 9 ** 3 + 10 ** 3\n",
    "print(a == b)"
   ]
  },
  {
   "cell_type": "markdown",
   "id": "f4ba9cd4-5dea-4acc-92e5-0901daf57d10",
   "metadata": {},
   "source": [
    "This is the famous [Ramanujan's taxi number](https://en.wikipedia.org/wiki/1729_(number))!\n",
    "\n",
    "5. (Bonus) Is $5457$ divisible by $17$? (Hint: `a % b` will give you the remainder -- eg. `5 % 4` will give `1`)"
   ]
  },
  {
   "cell_type": "code",
   "execution_count": 5,
   "id": "c288e0f2-f64d-4124-84f1-bbe97315c51f",
   "metadata": {},
   "outputs": [
    {
     "data": {
      "text/plain": [
       "True"
      ]
     },
     "execution_count": 5,
     "metadata": {},
     "output_type": "execute_result"
    }
   ],
   "source": [
    "# Your code here\n",
    "5457 % 17 == 0"
   ]
  },
  {
   "cell_type": "markdown",
   "id": "0f2a0f94-56a9-4d40-962c-a358ef699e5c",
   "metadata": {},
   "source": [
    "---"
   ]
  },
  {
   "cell_type": "code",
   "execution_count": 7,
   "id": "3eb36a51-43e5-4e48-ae6f-d03ba70483a1",
   "metadata": {},
   "outputs": [],
   "source": [
    "my_list = [\"apple\", \"banana\", \"cherry\", \"tomato\"]"
   ]
  },
  {
   "cell_type": "markdown",
   "id": "e608d65c-888c-4b65-8708-8baa72445f70",
   "metadata": {},
   "source": [
    "---\n",
    "## <font color='#F89536'> **Discussion:** </font>  \n",
    "Try `print()` out `my_list[2:]` and `my_list[:2]`. What's the difference?"
   ]
  },
  {
   "cell_type": "code",
   "execution_count": 8,
   "id": "a79b1d46-e163-4e21-ae31-9c690fdc0416",
   "metadata": {},
   "outputs": [
    {
     "name": "stdout",
     "output_type": "stream",
     "text": [
      "['cherry', 'tomato']\n",
      "['apple', 'banana']\n"
     ]
    }
   ],
   "source": [
    "# Your code here\n",
    "print(my_list[2:])\n",
    "print(my_list[:2])"
   ]
  },
  {
   "cell_type": "markdown",
   "id": "620a7100-79e9-4e92-9973-85b26a4c5361",
   "metadata": {},
   "source": [
    "---"
   ]
  },
  {
   "cell_type": "markdown",
   "id": "0d344625-2c43-4ac7-a4da-6b20fdba0c44",
   "metadata": {},
   "source": [
    "---\n",
    "## <font color='#F89536'> **Discussion:** </font>  \n",
    "Why is it `[3,0]` -- what do those numbers represent? What if I wanted to learn about llama ears? Which indices do I need to provide?\n",
    "\n",
    "<font color='Red'> [3,0] is the 4th row, and the 1st column. Llama ears are at [1,1] since that is the 2nd row and 2nd column.</font> \n",
    "\n",
    "---"
   ]
  },
  {
   "cell_type": "markdown",
   "id": "aba14f1e-5700-441b-acf5-481501a7387a",
   "metadata": {},
   "source": [
    "---\n",
    "## <font color='#F89536'> **Discussion:** </font> \n",
    "What does the `range(len(my_fruit_list))` actually do?\n",
    "\n",
    "<font color='Red'> The `len()` function prints the length of the list, and `range()` creates a sequential list from 0 as a list of indicies to loop over.</font> \n",
    "\n",
    "---"
   ]
  },
  {
   "cell_type": "code",
   "execution_count": 9,
   "id": "f489bbe0-26e6-49a4-bae7-b64c27fbda14",
   "metadata": {},
   "outputs": [],
   "source": [
    "def pig_latin_translator(english):\n",
    "    \"\"\" This is also a comment!! Typically comments like this are put here to describe the function\"\"\"\n",
    "    \"\"\" This function translates English words to Pig Latin\"\"\"\n",
    "    assert type(english) == str # we need to make sure the input is a string and not any other data type\n",
    "    first_letter = english[0] # just like lists, you can get elements (characters) of a string\n",
    "    rest_of_word = english[1:] # here we select the 2nd element onwards\n",
    "    pig_latin = rest_of_word + first_letter + \"ay\"\n",
    "    return pig_latin"
   ]
  },
  {
   "cell_type": "markdown",
   "id": "60e7ae24-3682-4d74-8693-0546593bfcc0",
   "metadata": {},
   "source": [
    "--- \n",
    "## <font color='#F89536'> **Discussion:** </font> \n",
    "What happens when you put in a non-string input? What happens when you put in more than a single word?\n",
    "\n",
    "<font color='Red'> A non-string input will hit the `assert` statement and give an error. Multiple words however will give an output that is incorrect (which is worse!). Error handling is an important part of programming. Always make sure that failures can be noted.</font> "
   ]
  },
  {
   "cell_type": "code",
   "execution_count": 10,
   "id": "77ec8a62-cf56-40a3-b06d-8a2fe6b7b928",
   "metadata": {},
   "outputs": [
    {
     "ename": "AssertionError",
     "evalue": "",
     "output_type": "error",
     "traceback": [
      "\u001b[1;31m---------------------------------------------------------------------------\u001b[0m",
      "\u001b[1;31mAssertionError\u001b[0m                            Traceback (most recent call last)",
      "\u001b[1;32m~\\AppData\\Local\\Temp/ipykernel_15028/3252642584.py\u001b[0m in \u001b[0;36m<module>\u001b[1;34m\u001b[0m\n\u001b[0;32m      1\u001b[0m \u001b[1;31m# Your code here\u001b[0m\u001b[1;33m\u001b[0m\u001b[1;33m\u001b[0m\u001b[0m\n\u001b[1;32m----> 2\u001b[1;33m \u001b[0mpig_latin_translator\u001b[0m\u001b[1;33m(\u001b[0m\u001b[1;32mTrue\u001b[0m\u001b[1;33m)\u001b[0m\u001b[1;33m\u001b[0m\u001b[1;33m\u001b[0m\u001b[0m\n\u001b[0m",
      "\u001b[1;32m~\\AppData\\Local\\Temp/ipykernel_15028/34659043.py\u001b[0m in \u001b[0;36mpig_latin_translator\u001b[1;34m(english)\u001b[0m\n\u001b[0;32m      2\u001b[0m     \u001b[1;34m\"\"\" This is also a comment!! Typically comments like this are put here to describe the function\"\"\"\u001b[0m\u001b[1;33m\u001b[0m\u001b[1;33m\u001b[0m\u001b[0m\n\u001b[0;32m      3\u001b[0m     \u001b[1;34m\"\"\" This function translates English words to Pig Latin\"\"\"\u001b[0m\u001b[1;33m\u001b[0m\u001b[1;33m\u001b[0m\u001b[0m\n\u001b[1;32m----> 4\u001b[1;33m     \u001b[1;32massert\u001b[0m \u001b[0mtype\u001b[0m\u001b[1;33m(\u001b[0m\u001b[0menglish\u001b[0m\u001b[1;33m)\u001b[0m \u001b[1;33m==\u001b[0m \u001b[0mstr\u001b[0m \u001b[1;31m# we need to make sure the input is a string and not any other data type\u001b[0m\u001b[1;33m\u001b[0m\u001b[1;33m\u001b[0m\u001b[0m\n\u001b[0m\u001b[0;32m      5\u001b[0m     \u001b[0mfirst_letter\u001b[0m \u001b[1;33m=\u001b[0m \u001b[0menglish\u001b[0m\u001b[1;33m[\u001b[0m\u001b[1;36m0\u001b[0m\u001b[1;33m]\u001b[0m \u001b[1;31m# just like lists, you can get elements (characters) of a string\u001b[0m\u001b[1;33m\u001b[0m\u001b[1;33m\u001b[0m\u001b[0m\n\u001b[0;32m      6\u001b[0m     \u001b[0mrest_of_word\u001b[0m \u001b[1;33m=\u001b[0m \u001b[0menglish\u001b[0m\u001b[1;33m[\u001b[0m\u001b[1;36m1\u001b[0m\u001b[1;33m:\u001b[0m\u001b[1;33m]\u001b[0m \u001b[1;31m# here we select the 2nd element onwards\u001b[0m\u001b[1;33m\u001b[0m\u001b[1;33m\u001b[0m\u001b[0m\n",
      "\u001b[1;31mAssertionError\u001b[0m: "
     ]
    }
   ],
   "source": [
    "# Your code here\n",
    "pig_latin_translator(True)"
   ]
  },
  {
   "cell_type": "code",
   "execution_count": 11,
   "id": "580e0c77-8cd5-4ad1-8fc2-3e540278c8b7",
   "metadata": {},
   "outputs": [
    {
     "data": {
      "text/plain": [
       "'hat Herodotus the Halicarnassian has learnt by inquiry is here set forthWay'"
      ]
     },
     "execution_count": 11,
     "metadata": {},
     "output_type": "execute_result"
    }
   ],
   "source": [
    "pig_latin_translator(\"What Herodotus the Halicarnassian has learnt by inquiry is here set forth\")"
   ]
  },
  {
   "cell_type": "markdown",
   "id": "352feba3-58af-4ac2-bf0c-34d80a462642",
   "metadata": {},
   "source": [
    "---"
   ]
  }
 ],
 "metadata": {
  "kernelspec": {
   "display_name": "cnn-tutorial",
   "language": "python",
   "name": "cnn-tutorial"
  },
  "language_info": {
   "codemirror_mode": {
    "name": "ipython",
    "version": 3
   },
   "file_extension": ".py",
   "mimetype": "text/x-python",
   "name": "python",
   "nbconvert_exporter": "python",
   "pygments_lexer": "ipython3",
   "version": "3.9.7"
  }
 },
 "nbformat": 4,
 "nbformat_minor": 5
}
