{
 "cells": [
  {
   "cell_type": "markdown",
   "id": "85bdfbfd-0f29-44ee-893b-c26295750a91",
   "metadata": {},
   "source": [
    "# 🐍 Part 1: Exploring Jupyter Notebooks & Python\n",
    "\n",
    "**Disclaimer:** This section is largely borrowed from the [Jupyter Notebook tutorial](https://github.com/ABS-Neural-Nets-Tutorial/Intro-To-Neural-Networks/blob/main/notebooks/1_Exploring_Notebooks.ipynb) and the [R tutorial](https://github.com/ABS-Neural-Nets-Tutorial/Intro-To-Neural-Networks/blob/main/notebooks/2_Learning_R.ipynb).\n",
    "\n",
    "## 📓 About Notebooks\n",
    "Science is all about recording methods and results of experiments. Just like how a student of science is expected to use a lab book to scribble their thoughts and observations, likewise [Jupyter Notebooks](https://jupyterlab.readthedocs.io/en/stable/user/notebook.html) provide a platform for exploration and experimentation -- but with computer and code.\n",
    "\n",
    "When to use notebooks: 👍  \n",
    " ❤️ Learning new methods and programming languages (ie. right now!)  \n",
    " ❤️ Experimenting with methods \n",
    "\n",
    "When not to use notebook: 👎  \n",
    "🤮 Productionising an application\n",
    "\n",
    "Notebooks are made up of building blocks of **cells**. There are two such types\n",
    "1. **Markdown Cells:** You can write stuff here and add images (this current cell is a markdown cell).\n",
    "2. **Code Cells:** You can write and run code here (these cells usually have `[ ]` next to them, sometimes with a number inside).\n",
    "\n",
    "For the purpose of this workshop, we only need to run the **code cells**. In order to run a code cell, click on the cell so that you see a blue bar on the left side like so:\n",
    "\n",
    "![br](../images/blue-ribbon.PNG)\n",
    "\n",
    "Once selected, press the ▶️ in the top bar. Alternatively you can click on a code cell and press `cltr+enter` or `shift+enter`."
   ]
  },
  {
   "cell_type": "markdown",
   "id": "0d690895-3715-44ad-9d39-da650c7c02db",
   "metadata": {},
   "source": [
    "---\n",
    "## <font color='#F89536'> **Discussion Question:** </font> \n",
    "What is the difference between `cltr+enter` and `shift+enter`?\n",
    "\n",
    "---"
   ]
  },
  {
   "cell_type": "code",
   "execution_count": null,
   "id": "10a4f765-848d-40a9-8616-4e39eb6d28e5",
   "metadata": {},
   "outputs": [],
   "source": [
    "print(\"Hello World! 👋\")"
   ]
  },
  {
   "cell_type": "markdown",
   "id": "88fdb642-3c61-46b0-902f-de929bd508af",
   "metadata": {},
   "source": [
    "#### 🎉🎉🎉 Congratulations! You have passed the rite of passage for all programmers -- printing \"Hello World\" 🎉🎉🎉\n",
    "There are many tips and tricks of the trade. In an effort to not reinvent the wheel, we won't be going through those details today. If you are interested, please have a look at [this tutorial](https://github.com/ABS-Neural-Nets-Tutorial/Intro-To-Neural-Networks/blob/main/notebooks/1_Exploring_Notebooks.ipynb) by Jack. The interactive version can be found by opening [this binder](https://mybinder.org/v2/gh/ABS-Neural-Nets-Tutorial/Intro-To-Neural-Nets-Env/main?urlpath=git-pull%3Frepo%3Dhttps%253A%252F%252Fgithub.com%252FABS-Neural-Nets-Tutorial%252FIntro-To-Neural-Networks%26urlpath%3Dlab%252Ftree%252FIntro-To-Neural-Networks%252Fnotebooks%252F1_Exploring_Notebooks.ipynb%26branch%3Dmain).\n",
    "\n",
    "Here's a comprehensive list of [keyboard shortcuts](https://cheatography.com/weidadeyue/cheat-sheets/jupyter-notebook/pdf_bw/) as well."
   ]
  },
  {
   "cell_type": "markdown",
   "id": "0b98f1b3-fdfd-42d7-8aba-7402c4a3e9e8",
   "metadata": {},
   "source": [
    "## 🐍 Python\n",
    "> Programming = Sending instructions to computers\n",
    "\n",
    "Python is no different in this regard. If you want to learn more about the nitty gritty details and difference with R, read the snippet below:"
   ]
  },
  {
   "cell_type": "markdown",
   "id": "10f33222-4233-40b0-9645-12e812e2e112",
   "metadata": {},
   "source": [
    "---\n",
    "### <font color='red'> The Nitty Gritty </font>\n",
    "[Python](https://www.python.org/doc/essays/blurb/) is:\n",
    "* **A high (not low) level language**: Meaning the instructions resembles human natural language more than computer/machine language (of manipulating 0s and 1s). This means it requires significant 'translation' into machine-level code before the computer executes it. [Assembly](https://en.wikipedia.org/wiki/Assembly_language) is an example of low-level language.\n",
    "* **An interpreted (not compiled) language**: Meaning we do the translation work into machine-level code *line-by-line* rather than all at once. [C++](https://en.wikipedia.org/wiki/C%2B%2B) is an example of a compiled language where we translate it all at once.\n",
    "* **An object-oriented (not functional) language**: Meaning the core of it is the manipulation of objects (variables/classes etc.) rather than functions and recursion. [LISP](https://en.wikipedia.org/wiki/Lisp_(programming_language) is an example of a functional programming language. *Note this isn't an exactly correct distinction, see [this article](https://medium.com/@shaistha24/functional-programming-vs-object-oriented-programming-oop-which-is-better-82172e53a526) for more detail.*\n",
    "\n",
    "[Python vs. R](https://www.ibm.com/cloud/blog/python-vs-r)\n",
    "\n",
    "| Python | R |\n",
    "| --- | --- |\n",
    "| Developed by Software Engineers | Developed by Statisticians \\& Researchers | \n",
    "| Easy to learn if you have some programming experience | Easy to learn with no programming experience |\n",
    "| Is a versatile tool which can be used for many things (data science included) | Heavily emphasises statistical models and methods | \n",
    "| Easy to scale into production/application | Used more for experimentation \\& exploration |\n",
    "\n",
    "---"
   ]
  },
  {
   "cell_type": "markdown",
   "id": "d5981f0c-0b97-4a7c-852b-bbb888804a43",
   "metadata": {},
   "source": [
    "### 📝 A note on comments\n",
    "Lines that begin with `#` are called **comments**. They are ignored by the computer when running the code, and overall is useful for helping us explain tricky bits of the program to other humans. Text wrapped in `\"\"\"` are also considered comments, they are usually used for large blocks (usually reserved for descriptions inside functions)."
   ]
  },
  {
   "cell_type": "code",
   "execution_count": null,
   "id": "ab3d38ad-1ed5-423a-865e-8cf6a4e7adf4",
   "metadata": {},
   "outputs": [],
   "source": [
    "# This is a comment, the computer will completely ignore this\n",
    "# This is also a comment -- did you know Japan is suffering from a ninja shortage? 🥷🥷🥷\n",
    "# Maybe it's time for a career change https://www.businessinsider.com.au/iga-japan-is-facing-a-ninja-shortage-2018-7 🤔🤔🤔"
   ]
  },
  {
   "cell_type": "markdown",
   "id": "745ced46-beaa-40a6-a29d-9f94a38e0a53",
   "metadata": {},
   "source": [
    "### 🔢 Arithmetic & Variables\n",
    "Python can be used as a simple calculator!"
   ]
  },
  {
   "cell_type": "code",
   "execution_count": null,
   "id": "d0d85a85-8911-481e-afd9-103194f87094",
   "metadata": {},
   "outputs": [],
   "source": [
    "# Addition\n",
    "3 + 4"
   ]
  },
  {
   "cell_type": "code",
   "execution_count": null,
   "id": "f0d055b5-b153-4213-a76b-07dc6c7a1fff",
   "metadata": {},
   "outputs": [],
   "source": [
    "# Subtraction\n",
    "5 - 18"
   ]
  },
  {
   "cell_type": "code",
   "execution_count": null,
   "id": "b49c4511-8620-4d90-b1ef-12c081522af3",
   "metadata": {},
   "outputs": [],
   "source": [
    "# Multiplication\n",
    "2 * 8"
   ]
  },
  {
   "cell_type": "code",
   "execution_count": null,
   "id": "e6f469ef-fdd6-4f03-8a8b-02f1da61b87c",
   "metadata": {},
   "outputs": [],
   "source": [
    "# Division\n",
    "7 / 3"
   ]
  },
  {
   "cell_type": "code",
   "execution_count": null,
   "id": "5caa550b-1a19-46e2-bfb6-10638097b97e",
   "metadata": {},
   "outputs": [],
   "source": [
    "# Powers \n",
    "2 ** 3"
   ]
  },
  {
   "cell_type": "code",
   "execution_count": null,
   "id": "80f9c7a9-75e6-479a-9eb9-56a6bd1f0758",
   "metadata": {},
   "outputs": [],
   "source": [
    "# Boolean (reads, does 3 x 2 equal 4?)\n",
    "3 * 2 == 4"
   ]
  },
  {
   "cell_type": "markdown",
   "id": "6fc77770-1fa6-4ac3-8ec8-4c48269c01f2",
   "metadata": {},
   "source": [
    "You may notice the output is automatically displayed. This only happens to the **final line** of each cell. If you want to see something else displayed, you will need to use the in-built function `print()` (don't worry we will talk about functions in a bit)."
   ]
  },
  {
   "cell_type": "code",
   "execution_count": null,
   "id": "cadd8cd0-ba82-4052-946c-1e5ee46c4393",
   "metadata": {},
   "outputs": [],
   "source": [
    "print(\"This will be printed:\", 1 + 1)\n",
    "1 + 1 # This will NOT be printed -- it's not the last line\n",
    "3 + 5 # This will be printed -- it's the last line"
   ]
  },
  {
   "cell_type": "markdown",
   "id": "52ab9629-c501-4c08-b732-b63191cd86cd",
   "metadata": {},
   "source": [
    "That's great, but we often don't want to write out everything explicitly. **Variables** are a way for us to store data so that we can retrieve it at any point in time. "
   ]
  },
  {
   "cell_type": "code",
   "execution_count": null,
   "id": "d4d38f69-4a4b-4955-add2-a5579a169c2e",
   "metadata": {},
   "outputs": [],
   "source": [
    "# Let's add some numbers \n",
    "a = 17\n",
    "b = 5\n",
    "a - b"
   ]
  },
  {
   "cell_type": "markdown",
   "id": "1bf57bbe-d305-4b35-bc5c-a309df3b2318",
   "metadata": {},
   "source": [
    "For best practice, don't write out such ambiguous variables (I may be a hypocrite in this regard 😬😬😬 Do as as I say not as as I do). For example, the code below is much more clear to a reader:"
   ]
  },
  {
   "cell_type": "code",
   "execution_count": null,
   "id": "05aa3880-83d7-4d3a-af66-aa184a52aff7",
   "metadata": {},
   "outputs": [],
   "source": [
    "cost_of_annual_netflix_subscription = 19.99\n",
    "number_of_users_i_share_with = 4\n",
    "cost_per_user = cost_of_annual_netflix_subscription / number_of_users_i_share_with\n",
    "print(\"I pay only $\", cost_per_user, \"for my Netflix!\")"
   ]
  },
  {
   "cell_type": "markdown",
   "id": "1b3322a5-364b-4764-9cb1-7fad60355304",
   "metadata": {},
   "source": [
    "---\n",
    "## <font color='#F89536'> **Your turn!** </font>  \n",
    "Try to make code to compute the following:\n",
    "    \n",
    "1. What is $(225 + 751) \\times 32$"
   ]
  },
  {
   "cell_type": "code",
   "execution_count": null,
   "id": "79ade8e5-4f1d-435f-a9b2-14aed21058ee",
   "metadata": {},
   "outputs": [],
   "source": [
    "# Your code here\n"
   ]
  },
  {
   "cell_type": "markdown",
   "id": "1a451a58-e79c-4f4a-9817-9e7dc44d5d06",
   "metadata": {},
   "source": [
    "2. Calculate $1^3 + 2^3 + 3^3 + 4^3$"
   ]
  },
  {
   "cell_type": "code",
   "execution_count": null,
   "id": "d450d403-2d8a-47a9-8cbd-a1ec6b5ebd55",
   "metadata": {},
   "outputs": [],
   "source": [
    "# Your code here\n"
   ]
  },
  {
   "cell_type": "markdown",
   "id": "a7d27dae-caa2-46a9-b3e7-1bc49049bb62",
   "metadata": {},
   "source": [
    "3. If the base of a triangle is $34$ and the height is $12$, what is the area? (Hint: The area of the triangle is $ 0.5 \\times base \\times height$). Fill in the `?` below."
   ]
  },
  {
   "cell_type": "code",
   "execution_count": null,
   "id": "979e1e26-5f44-47ca-8eec-9df8c0abb9b3",
   "metadata": {},
   "outputs": [],
   "source": [
    "# Your code here\n",
    "base = ?\n",
    "height = ?\n",
    "area = ?\n",
    "print(area)"
   ]
  },
  {
   "cell_type": "markdown",
   "id": "816b27f4-cc46-4b53-aac7-cbf2919c548d",
   "metadata": {},
   "source": [
    "4. Is $a = 1^3 + 12^3$ the same as $b = 9^3 + 10^3$. (Hint: Define `a = 1 ** 3 + 12 ** 3` etc. first). Fill in the `?` below."
   ]
  },
  {
   "cell_type": "code",
   "execution_count": null,
   "id": "434c2977-6d13-4029-a44f-3b3644354f66",
   "metadata": {},
   "outputs": [],
   "source": [
    "# Your code here\n",
    "a = ?\n",
    "b = ?\n",
    "print(?)"
   ]
  },
  {
   "cell_type": "markdown",
   "id": "f4ba9cd4-5dea-4acc-92e5-0901daf57d10",
   "metadata": {},
   "source": [
    "This is the famous [Ramanujan's taxi number](https://en.wikipedia.org/wiki/1729_(number))!\n",
    "\n",
    "5. (Bonus) Is $5457$ divisible by $17$? (Hint: `a % b` will give you the remainder -- eg. `5 % 4` will give `1`)"
   ]
  },
  {
   "cell_type": "code",
   "execution_count": null,
   "id": "c288e0f2-f64d-4124-84f1-bbe97315c51f",
   "metadata": {},
   "outputs": [],
   "source": [
    "# Your code here\n"
   ]
  },
  {
   "cell_type": "markdown",
   "id": "0f2a0f94-56a9-4d40-962c-a358ef699e5c",
   "metadata": {},
   "source": [
    "---"
   ]
  },
  {
   "cell_type": "markdown",
   "id": "070a8da9-fb13-4f26-a4a2-025931e79c99",
   "metadata": {},
   "source": [
    "### ⌨️ Basic Data Types\n",
    "Although a computer stores all its data in a series of 0s and 1s as numbers, we often work with more than just numbers. Each variable you store must pertain to a particular **data type** so that when you retreive it, the computer knows what to display to you. Some common data types in Python are:\n",
    "\n",
    "| Data Type | Description | Examples |\n",
    "| --- | --- | --- |\n",
    "| Integer | Counting/whole numbers | `2` or `-3` |\n",
    "| Floats | Decimal numbers | `4.2` or `3.0e8` (the latter is in [scientific notation](https://en.wikipedia.org/wiki/Scientific_notation))\n",
    "| Strings | Sequences of characters (given with quotation marks) | `\"I am gr00t\"` |\n",
    "| Boolean | Either `True` or `False` | `True` or `False` |\n",
    "| List | A collection of items (can be any type) | `[\"apple\", \"orange\", \"banana\"]` or `[\"abc\", 34, True, 40, \"male\"]` |\n",
    "\n",
    "Let's have a look at some examples."
   ]
  },
  {
   "cell_type": "code",
   "execution_count": null,
   "id": "864c0a93-bbd2-41da-b4b9-72557ec33bb9",
   "metadata": {},
   "outputs": [],
   "source": [
    "integer = 3 # this is an integer\n",
    "floats = 3e8 # this is a float\n",
    "string = \"Woop Woop\" # this is a string\n",
    "boolean = True # this is a boolean\n",
    "\n",
    "integer_one = 1 # this is an integer\n",
    "string_one = \"1\" # this is a string\n",
    "print(\"Adding integers together: \", integer_one + integer_one, \"...makes sense\")\n",
    "print(\"Adding strings together: \", string_one + string_one, \"...weird!\")"
   ]
  },
  {
   "cell_type": "markdown",
   "id": "b1eb001f-243e-4ee9-9d20-1c7fa73d0936",
   "metadata": {},
   "source": [
    "You need to be very careful with data types to make sure you don't mix them, for example, **you can't add an integer to a string**:"
   ]
  },
  {
   "cell_type": "code",
   "execution_count": null,
   "id": "3b140e85-1e68-4d65-bdb4-bc4df0b5247c",
   "metadata": {},
   "outputs": [],
   "source": [
    "integer_one + string_one"
   ]
  },
  {
   "cell_type": "markdown",
   "id": "9ac50e87-970b-4d0c-b214-a701a63785f0",
   "metadata": {},
   "source": [
    "Lists are special because they are a **collection** of items any of the other four (or more) data types. To define a list, you must used square brackets `[ ]`. "
   ]
  },
  {
   "cell_type": "code",
   "execution_count": null,
   "id": "4908ab69-1c78-43f5-9272-d99a424d5674",
   "metadata": {},
   "outputs": [],
   "source": [
    "my_list = [\"apple\", \"banana\", \"cherry\", \"tomato\"]"
   ]
  },
  {
   "cell_type": "markdown",
   "id": "8c76c016-418a-4d49-a64a-3429afd6a7b5",
   "metadata": {},
   "source": [
    "There are several properties of lists to keep in mind:\n",
    "* Length `len()`: How many elements are there in total\n",
    "* Index `[i]`: the i-th element of the list. Note that `i` is called the **index**.\n",
    "\n",
    "***Note: Indices in Python begin with 0 (so the first element is 0, second is 1 etc.). This differs from R where indexing begins at 1.***"
   ]
  },
  {
   "cell_type": "code",
   "execution_count": null,
   "id": "f48f657e-1fc0-456b-be0b-1be45397868f",
   "metadata": {},
   "outputs": [],
   "source": [
    "print(\"There are\", len(my_list), \"elements in my_list.\")\n",
    "print(\"The 2nd element of the list is:\", my_list[1])"
   ]
  },
  {
   "cell_type": "markdown",
   "id": "3381200d-8ec8-4ade-8878-9daa4ae9ac9e",
   "metadata": {},
   "source": [
    "You can also have mixed lists!"
   ]
  },
  {
   "cell_type": "code",
   "execution_count": null,
   "id": "172d1b34-0c42-47c5-bb1d-611001b2a83c",
   "metadata": {},
   "outputs": [],
   "source": [
    "mixed_list = [\"Apple\", 0.5, 2, True]"
   ]
  },
  {
   "cell_type": "markdown",
   "id": "e5353c66-3dc4-44e6-a6d8-fb51afccc0cf",
   "metadata": {},
   "source": [
    "🔪 You can also access multiple elements of a list using `:` called a **slice** - which means *onwards* (eg. `1:` might mean the 2nd element onwards). "
   ]
  },
  {
   "cell_type": "markdown",
   "id": "e608d65c-888c-4b65-8708-8baa72445f70",
   "metadata": {},
   "source": [
    "---\n",
    "## <font color='#F89536'> **Discussion:** </font>  \n",
    "Try `print()` out `my_list[2:]` and `my_list[:2]`. What's the difference?"
   ]
  },
  {
   "cell_type": "code",
   "execution_count": null,
   "id": "a79b1d46-e163-4e21-ae31-9c690fdc0416",
   "metadata": {},
   "outputs": [],
   "source": [
    "# Your code here\n"
   ]
  },
  {
   "cell_type": "markdown",
   "id": "620a7100-79e9-4e92-9973-85b26a4c5361",
   "metadata": {},
   "source": [
    "---"
   ]
  },
  {
   "cell_type": "markdown",
   "id": "77462447-eb6c-4ea1-825a-054d6705256b",
   "metadata": {},
   "source": [
    "When in doubt you can always check the data type using `type()`!\n"
   ]
  },
  {
   "cell_type": "code",
   "execution_count": null,
   "id": "df6b7801-9674-4b8e-ba3c-6272513a8464",
   "metadata": {},
   "outputs": [],
   "source": [
    "type(my_list)"
   ]
  },
  {
   "cell_type": "markdown",
   "id": "bf67e9be-4b2c-4ed8-90d6-646fa3745639",
   "metadata": {},
   "source": [
    "### 🧐 Specialised Data Types\n",
    "Beyond the basic data types, users can define their very own data types! We will not be doing that today. Instead, we will be *importing* code that other people have made (aka. *libraries*) and recycle some of their data types. A key one is the concept of an array. Let's have a look at some arrays.\n",
    "\n",
    "#### ***One Dimensional Arrays***\n",
    "We talked before about the concept of a list, and how elements of a list can be retrieved by their **index**. For example\n",
    "\n",
    "My Shopping List:\n",
    "\n",
    "0. Milk\n",
    "1. Eggs\n",
    "2. Carrots\n",
    "3. Cat food\n",
    "4. Cat\n",
    "\n",
    "We can normally access elements (items in a list) by giving an index (the i-th item on the list). For example, `i=2` gives \"Carrots\". Let's test that out:"
   ]
  },
  {
   "cell_type": "code",
   "execution_count": null,
   "id": "b5d07aad-1276-4a44-b90a-8aa668e9520d",
   "metadata": {},
   "outputs": [],
   "source": [
    "# Here it is in Python\n",
    "my_shopping_list = [\"milk\", \"eggs\", \"carrots\", \"cat food\", \"cat\"]\n",
    "my_shopping_list[2] # this should give carrots!"
   ]
  },
  {
   "cell_type": "markdown",
   "id": "7f12384e-a24c-4609-85f7-bbd6eca63bcf",
   "metadata": {},
   "source": [
    "#### ***Two Dimensional Arrays***\n",
    "What about something a little bit more complex? What if you want to save data in the form of a **table/matrix**? It turns out there is a data type for this too! Say you are concerned about the difference between [Llamas and Alpacas](https://askanydifference.com/difference-between-alpaca-and-llama/) (as one would):\n",
    "\n",
    "| Alpaca | Llama |\n",
    "| --- | --- |\n",
    "| South America ONLY | All over the world |\n",
    "| Small pear-shaped ears | Long banana-shaped ears |\n",
    "| Extremely Jumpy/Nervous | (Strong) independent guard animals for sheep/alpaca |\n",
    "| Fine hair and good fleece producing abilities | Limited fleace producing abilities | \n",
    "\n",
    "Suppose you are really concerned with the fleece producing ability of alpacas, how would you go about extracting that information? Maybe something like this:\n",
    "```Python\n",
    "my_alpaca_llama_table[3,0]\n",
    "```\n",
    "Requiring **two** indicies to represent the data. Note that unlike the `my_shopping_list` example, we didn't specify how to define the table, just how to extract elements from them. This is intentional as that is the only functionality we are going to be concerned with here."
   ]
  },
  {
   "cell_type": "markdown",
   "id": "0d344625-2c43-4ac7-a4da-6b20fdba0c44",
   "metadata": {},
   "source": [
    "---\n",
    "## <font color='#F89536'> **Discussion:** </font>  \n",
    "Why is it `[3,0]` -- what do those numbers represent? What if I wanted to learn about llama ears? Which indices do I need to provide?\n",
    "\n",
    "---"
   ]
  },
  {
   "cell_type": "markdown",
   "id": "64e142b1-04db-4c49-b7f3-947e1b07f48d",
   "metadata": {},
   "source": [
    "#### ***Three or more Dimensional Arrays***\n",
    "Is there anything more complex than a table? Yes! You may have noticed that:\n",
    "* In the 1D case, we extract elements with **one index** (eg. `a[2]`)\n",
    "* In the 2D case, we extract elements with **two indices** (eg. `a[5,1]`)\n",
    "\n",
    "Care to take a gander at how many indices we need for the 3D case? Yep! That's right, 3! These objects are loosely called **tensors**. An example if this is if you have a coloured image. You may want to access not only a particular pixel in 2D (ie. the position of a single pixel given by a table), but also the colour channel (since coloured pictures have Red-Green-Blue). So the top left corner of a picture in the green channel may be given by `[1,0,0]`. The main data object we will be using is a **tensor** in the PyTorch library.\n",
    "\n",
    "#### ***Summary***\n",
    "So these are some examples of arrays.\n",
    "\n",
    "| Name | Dimensions | Description | Index| \n",
    "| --- | --- | --- | --- | \n",
    "| Scalar | 0D | Any variable/object | None `[]` |\n",
    "| Vector | 1D | A list of stuff | One index `[3]` |\n",
    "| Matrix | 2D | A table of stuff | Two indices `[2,3]` |\n",
    "| Tensor | 3D+ | - | Three or more indices `[1,28,28]` |\n",
    "\n",
    "![tensor](../images/tensor.png)  \n",
    "[source](https://www.researchgate.net/figure/Tensors-as-generalizations-of-scalars-vectors-and-matrices_fig3_332263806) -- note that technically a tensor is *any* array from the diagram, but often they refer to arrays with 3D or higher."
   ]
  },
  {
   "cell_type": "markdown",
   "id": "cb58a88c-0785-477b-85e3-f4edef7a920d",
   "metadata": {},
   "source": [
    "### 🔁 Loops\n",
    "Programming can be quite repetitive, you may be doing the same thing over and over again. To facilitate this, loops are an important aspect. Let's say you want to see what each element in our fruit list is."
   ]
  },
  {
   "cell_type": "code",
   "execution_count": null,
   "id": "c47f6587-3fd6-4b50-8d1a-afebbced265b",
   "metadata": {},
   "outputs": [],
   "source": [
    "my_fruit_list = [\"apple\", \"banana\", \"cherry\"]"
   ]
  },
  {
   "cell_type": "code",
   "execution_count": null,
   "id": "eeaa175d-e924-4f6d-a3a3-a01a0964f65e",
   "metadata": {},
   "outputs": [],
   "source": [
    "# Method 1: Access each element of the list directly\n",
    "for fruit in my_fruit_list:\n",
    "    print(fruit)"
   ]
  },
  {
   "cell_type": "code",
   "execution_count": null,
   "id": "b6445fea-c73d-4d8b-9aad-1d5994cdb463",
   "metadata": {},
   "outputs": [],
   "source": [
    "# Method 2: Access each element of the list via indices\n",
    "for i in range(len(my_fruit_list)):\n",
    "    print(my_fruit_list[i])"
   ]
  },
  {
   "cell_type": "markdown",
   "id": "aba14f1e-5700-441b-acf5-481501a7387a",
   "metadata": {},
   "source": [
    "---\n",
    "## <font color='#F89536'> **Discussion:** </font> \n",
    "What does the `range(len(my_fruit_list))` actually do?\n",
    "\n",
    "---"
   ]
  },
  {
   "cell_type": "markdown",
   "id": "7ebdae1d-cd07-4087-9661-2fdbeed5ca1b",
   "metadata": {},
   "source": [
    "### ➕ Functions\n",
    "Sometimes we want to run the same block of code over and over again in different parts of our program. We *can* just copy and paste the code, but what happens if we need to make a change to it? We would need to go back to every bit of code we copied and make the change over and over again. This is where functions come in. Functions are defined using the following syntax:\n",
    "```Python\n",
    "def my_function(input_1, input_2 = input_2_default_value):\n",
    "    ## does a thing\n",
    "    return output\n",
    "```\n",
    "Below, we have written a function to read in English words and conver them into [Pig Latin](https://en.wikipedia.org/wiki/Pig_Latin). To convert English words into Pig Latin:\n",
    "1. Move the first letter of the word to the back of the word\n",
    "2. Add '-ay' to the end of the word  \n",
    "\n",
    "For example, 'neural' becomes 'euralnay', or 'cat' becomes 'atcay'."
   ]
  },
  {
   "cell_type": "code",
   "execution_count": null,
   "id": "fe62ae31-100f-4732-8d7a-e7ef5c88dcfd",
   "metadata": {},
   "outputs": [],
   "source": [
    "def pig_latin_translator(english):\n",
    "    \"\"\" This is also a comment!! Typically comments like this are put here to describe the function\"\"\"\n",
    "    \"\"\" This function translates English words to Pig Latin\"\"\"\n",
    "    assert type(english) == str # we need to make sure the input is a string and not any other data type\n",
    "    first_letter = english[0] # just like lists, you can get elements (characters) of a string\n",
    "    rest_of_word = english[1:] # here we select the 2nd element onwards\n",
    "    pig_latin = rest_of_word + first_letter + \"ay\"\n",
    "    return pig_latin"
   ]
  },
  {
   "cell_type": "markdown",
   "id": "e595041b-5e19-4f52-a315-17a97f54aa8d",
   "metadata": {},
   "source": [
    "We will not focus on how to **write** functions, instead, we will only be looking at how to **use** functions. Functions have two parts:\n",
    "* **Input**: What arguments are going into the function. In our case, these are English words.\n",
    "* **Output**: What is the function outputting to us as an answer. In our case, these are Pig Latin words."
   ]
  },
  {
   "cell_type": "code",
   "execution_count": null,
   "id": "3f763d87-911b-46f4-ae7c-32162bd48b74",
   "metadata": {},
   "outputs": [],
   "source": [
    "# Let's try it\n",
    "result = pig_latin_translator(\"cat\")\n",
    "print(result)"
   ]
  },
  {
   "cell_type": "markdown",
   "id": "60e7ae24-3682-4d74-8693-0546593bfcc0",
   "metadata": {},
   "source": [
    "--- \n",
    "## <font color='#F89536'> **Discussion:** </font> \n",
    "What happens when you put in a non-string input? What happens when you put in more than a single word?"
   ]
  },
  {
   "cell_type": "code",
   "execution_count": null,
   "id": "77ec8a62-cf56-40a3-b06d-8a2fe6b7b928",
   "metadata": {},
   "outputs": [],
   "source": [
    "# Your code here\n"
   ]
  },
  {
   "cell_type": "markdown",
   "id": "352feba3-58af-4ac2-bf0c-34d80a462642",
   "metadata": {},
   "source": [
    "---"
   ]
  },
  {
   "cell_type": "markdown",
   "id": "783016a6-27cd-4322-8d60-1e15990eb3ae",
   "metadata": {},
   "source": [
    "### 📖 Libraries\n",
    "Functions can be relatively simple (like our example), or quite complex. Often times, there are functions that other people have written which does precisely want we want our code to do. In those cases, we don't need to re-write the code. Instead, we can **import** libraries (collection of pre-defined functions).\n",
    "\n",
    "For example, a factorial is a sequence of product of numbers. Say $5! = 5 \\times 4 \\times 3 \\times 2 \\times 1=120$. Instead of writing our own code to implement the factorial, we can use the `math` library to calculate our answer:\n",
    "* **Input:** The target number for the factorial operation $x$\n",
    "* **Output:** The calculated factorial $x!$"
   ]
  },
  {
   "cell_type": "code",
   "execution_count": null,
   "id": "b4f1c1bb-5db6-4688-b6d6-414cf7bf9ae1",
   "metadata": {},
   "outputs": [],
   "source": [
    "import math\n",
    "\n",
    "math.factorial(5)"
   ]
  }
 ],
 "metadata": {
  "kernelspec": {
   "display_name": "cnn-tutorial",
   "language": "python",
   "name": "cnn-tutorial"
  },
  "language_info": {
   "codemirror_mode": {
    "name": "ipython",
    "version": 3
   },
   "file_extension": ".py",
   "mimetype": "text/x-python",
   "name": "python",
   "nbconvert_exporter": "python",
   "pygments_lexer": "ipython3",
   "version": "3.9.7"
  }
 },
 "nbformat": 4,
 "nbformat_minor": 5
}
